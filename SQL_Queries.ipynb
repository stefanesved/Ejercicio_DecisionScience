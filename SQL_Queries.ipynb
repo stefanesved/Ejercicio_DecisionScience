{
 "cells": [
  {
   "cell_type": "code",
   "execution_count": 17,
   "id": "42288ed8",
   "metadata": {},
   "outputs": [],
   "source": [
    "%%capture\n",
    "!pip install ipython-sql;\n",
    "\n",
    "%load_ext sql\n",
    "%sql sqlite:///mydatabase.db"
   ]
  },
  {
   "cell_type": "code",
   "execution_count": 18,
   "id": "56564d60",
   "metadata": {},
   "outputs": [
    {
     "name": "stdout",
     "output_type": "stream",
     "text": [
      " * sqlite:///mydatabase.db\n",
      "Done.\n"
     ]
    },
    {
     "data": {
      "text/html": [
       "<table>\n",
       "    <thead>\n",
       "        <tr>\n",
       "            <th>First_Name</th>\n",
       "            <th>Last_Name</th>\n",
       "            <th>Email</th>\n",
       "        </tr>\n",
       "    </thead>\n",
       "    <tbody>\n",
       "        <tr>\n",
       "            <td>John</td>\n",
       "            <td>Doe</td>\n",
       "            <td>john.doe@email.com</td>\n",
       "        </tr>\n",
       "        <tr>\n",
       "            <td>Jane</td>\n",
       "            <td>Smith</td>\n",
       "            <td>jane.smith@email.com</td>\n",
       "        </tr>\n",
       "        <tr>\n",
       "            <td>Emily</td>\n",
       "            <td>Johnson</td>\n",
       "            <td>emily.johnson@email.com</td>\n",
       "        </tr>\n",
       "    </tbody>\n",
       "</table>"
      ],
      "text/plain": [
       "[('John', 'Doe', 'john.doe@email.com'),\n",
       " ('Jane', 'Smith', 'jane.smith@email.com'),\n",
       " ('Emily', 'Johnson', 'emily.johnson@email.com')]"
      ]
     },
     "execution_count": 18,
     "metadata": {},
     "output_type": "execute_result"
    }
   ],
   "source": [
    "%sql SELECT First_Name, Last_Name,Email FROM Client"
   ]
  },
  {
   "cell_type": "code",
   "execution_count": 19,
   "id": "7fa1e732",
   "metadata": {},
   "outputs": [
    {
     "name": "stdout",
     "output_type": "stream",
     "text": [
      " * sqlite:///mydatabase.db\n",
      "Done.\n"
     ]
    },
    {
     "data": {
      "text/html": [
       "<table>\n",
       "    <thead>\n",
       "        <tr>\n",
       "            <th>Transaction_ID</th>\n",
       "            <th>Product_Name</th>\n",
       "            <th>First_Name</th>\n",
       "            <th>Last_Name</th>\n",
       "        </tr>\n",
       "    </thead>\n",
       "    <tbody>\n",
       "        <tr>\n",
       "            <td>1</td>\n",
       "            <td>Credit Card</td>\n",
       "            <td>John</td>\n",
       "            <td>Doe</td>\n",
       "        </tr>\n",
       "        <tr>\n",
       "            <td>2</td>\n",
       "            <td>Savings Account</td>\n",
       "            <td>Jane</td>\n",
       "            <td>Smith</td>\n",
       "        </tr>\n",
       "        <tr>\n",
       "            <td>3</td>\n",
       "            <td>Personal Loan</td>\n",
       "            <td>Emily</td>\n",
       "            <td>Johnson</td>\n",
       "        </tr>\n",
       "    </tbody>\n",
       "</table>"
      ],
      "text/plain": [
       "[(1, 'Credit Card', 'John', 'Doe'),\n",
       " (2, 'Savings Account', 'Jane', 'Smith'),\n",
       " (3, 'Personal Loan', 'Emily', 'Johnson')]"
      ]
     },
     "execution_count": 19,
     "metadata": {},
     "output_type": "execute_result"
    }
   ],
   "source": [
    "%%sql\n",
    "SELECT T.Transaction_ID, P.Product_Name, C.First_Name, C.Last_Name\n",
    "FROM Transactions T\n",
    "INNER JOIN Product P ON T.Product_ID = P.Product_ID\n",
    "INNER JOIN Client C ON T.Client_ID = C.Client_ID;"
   ]
  },
  {
   "cell_type": "code",
   "execution_count": 20,
   "id": "58969002",
   "metadata": {},
   "outputs": [
    {
     "name": "stdout",
     "output_type": "stream",
     "text": [
      " * sqlite:///mydatabase.db\n",
      "Done.\n"
     ]
    },
    {
     "data": {
      "text/html": [
       "<table>\n",
       "    <thead>\n",
       "        <tr>\n",
       "            <th>Client_ID</th>\n",
       "            <th>Total_Loan_Amount</th>\n",
       "            <th>Average_Interest_Rate</th>\n",
       "        </tr>\n",
       "    </thead>\n",
       "    <tbody>\n",
       "        <tr>\n",
       "            <td>1</td>\n",
       "            <td>10000</td>\n",
       "            <td>5.0</td>\n",
       "        </tr>\n",
       "        <tr>\n",
       "            <td>2</td>\n",
       "            <td>20000</td>\n",
       "            <td>6.0</td>\n",
       "        </tr>\n",
       "        <tr>\n",
       "            <td>3</td>\n",
       "            <td>30000</td>\n",
       "            <td>7.0</td>\n",
       "        </tr>\n",
       "    </tbody>\n",
       "</table>"
      ],
      "text/plain": [
       "[(1, 10000, 5.0), (2, 20000, 6.0), (3, 30000, 7.0)]"
      ]
     },
     "execution_count": 20,
     "metadata": {},
     "output_type": "execute_result"
    }
   ],
   "source": [
    "%%sql\n",
    "SELECT\n",
    "    Client_ID,\n",
    "    SUM(Loan_Amount) AS Total_Loan_Amount,\n",
    "    AVG(Interest_Rate) AS Average_Interest_Rate\n",
    "FROM Loan\n",
    "GROUP BY Client_ID;"
   ]
  },
  {
   "cell_type": "code",
   "execution_count": 21,
   "id": "abb8c8c8",
   "metadata": {},
   "outputs": [
    {
     "name": "stdout",
     "output_type": "stream",
     "text": [
      " * sqlite:///mydatabase.db\n",
      "Done.\n"
     ]
    },
    {
     "data": {
      "text/html": [
       "<table>\n",
       "    <thead>\n",
       "        <tr>\n",
       "            <th>Client_ID</th>\n",
       "            <th>Transaction_Date</th>\n",
       "            <th>Amount</th>\n",
       "            <th>Cumulative_Total</th>\n",
       "        </tr>\n",
       "    </thead>\n",
       "    <tbody>\n",
       "        <tr>\n",
       "            <td>1</td>\n",
       "            <td>2023-01-01</td>\n",
       "            <td>1000</td>\n",
       "            <td>1000</td>\n",
       "        </tr>\n",
       "        <tr>\n",
       "            <td>2</td>\n",
       "            <td>2023-01-02</td>\n",
       "            <td>2000</td>\n",
       "            <td>2000</td>\n",
       "        </tr>\n",
       "        <tr>\n",
       "            <td>3</td>\n",
       "            <td>2023-01-03</td>\n",
       "            <td>3000</td>\n",
       "            <td>3000</td>\n",
       "        </tr>\n",
       "    </tbody>\n",
       "</table>"
      ],
      "text/plain": [
       "[(1, '2023-01-01', 1000, 1000),\n",
       " (2, '2023-01-02', 2000, 2000),\n",
       " (3, '2023-01-03', 3000, 3000)]"
      ]
     },
     "execution_count": 21,
     "metadata": {},
     "output_type": "execute_result"
    }
   ],
   "source": [
    "%%sql\n",
    "SELECT\n",
    "    Client_ID,\n",
    "    Transaction_Date,\n",
    "    Amount,\n",
    "    SUM(Amount) OVER (PARTITION BY Client_ID ORDER BY Transaction_Date) AS Cumulative_Total\n",
    "FROM Transactions\n",
    "ORDER BY Client_ID, Transaction_Date;"
   ]
  },
  {
   "cell_type": "code",
   "execution_count": 23,
   "id": "f6de2ad7",
   "metadata": {},
   "outputs": [
    {
     "name": "stdout",
     "output_type": "stream",
     "text": [
      " * sqlite:///mydatabase.db\n",
      "Done.\n"
     ]
    },
    {
     "data": {
      "text/html": [
       "<table>\n",
       "    <thead>\n",
       "        <tr>\n",
       "            <th>Client_ID</th>\n",
       "            <th>Balance</th>\n",
       "            <th>Loan_Amount</th>\n",
       "            <th>Total_Liability</th>\n",
       "        </tr>\n",
       "    </thead>\n",
       "    <tbody>\n",
       "        <tr>\n",
       "            <td>3</td>\n",
       "            <td>3000</td>\n",
       "            <td>30000</td>\n",
       "            <td>33000</td>\n",
       "        </tr>\n",
       "        <tr>\n",
       "            <td>2</td>\n",
       "            <td>2000</td>\n",
       "            <td>20000</td>\n",
       "            <td>22000</td>\n",
       "        </tr>\n",
       "        <tr>\n",
       "            <td>1</td>\n",
       "            <td>1000</td>\n",
       "            <td>10000</td>\n",
       "            <td>11000</td>\n",
       "        </tr>\n",
       "    </tbody>\n",
       "</table>"
      ],
      "text/plain": [
       "[(3, 3000, 30000, 33000), (2, 2000, 20000, 22000), (1, 1000, 10000, 11000)]"
      ]
     },
     "execution_count": 23,
     "metadata": {},
     "output_type": "execute_result"
    }
   ],
   "source": [
    "%%sql\n",
    "WITH ClientLiabilities AS (\n",
    "    SELECT\n",
    "        C.Client_ID,\n",
    "        COALESCE(B.Balance, 0) AS Balance,\n",
    "        COALESCE(L.Loan_Amount, 0) AS Loan_Amount,\n",
    "        COALESCE(B.Balance, 0) + COALESCE(L.Loan_Amount, 0) AS Total_Liability\n",
    "    FROM Client C\n",
    "    LEFT JOIN Balance B ON C.Client_ID = B.Client_ID\n",
    "    LEFT JOIN Loan L ON C.Client_ID = L.Client_ID\n",
    ")\n",
    "SELECT\n",
    "    CL.Client_ID,\n",
    "    CL.Balance,\n",
    "    CL.Loan_Amount,\n",
    "    CL.Total_Liability\n",
    "FROM ClientLiabilities CL\n",
    "WHERE CL.Balance > 0 AND CL.Loan_Amount > 0\n",
    "ORDER BY CL.Total_Liability DESC;"
   ]
  },
  {
   "cell_type": "code",
   "execution_count": null,
   "id": "8b507dcb",
   "metadata": {},
   "outputs": [],
   "source": []
  }
 ],
 "metadata": {
  "kernelspec": {
   "display_name": "Python 3 (ipykernel)",
   "language": "python",
   "name": "python3"
  },
  "language_info": {
   "codemirror_mode": {
    "name": "ipython",
    "version": 3
   },
   "file_extension": ".py",
   "mimetype": "text/x-python",
   "name": "python",
   "nbconvert_exporter": "python",
   "pygments_lexer": "ipython3",
   "version": "3.9.13"
  }
 },
 "nbformat": 4,
 "nbformat_minor": 5
}
